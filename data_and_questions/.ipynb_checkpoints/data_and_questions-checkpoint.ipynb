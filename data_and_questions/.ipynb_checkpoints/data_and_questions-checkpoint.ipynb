{
 "cells": [
  {
   "cell_type": "markdown",
   "id": "5f0f18bb-1396-44e8-b7f7-054db4770216",
   "metadata": {},
   "source": [
    "# Data and Questions"
   ]
  },
  {
   "cell_type": "markdown",
   "id": "828bf674-6f85-4763-9016-04803753d7ba",
   "metadata": {},
   "source": [
    "## Data"
   ]
  },
  {
   "cell_type": "markdown",
   "id": "e589ecaa-c844-49ec-be9e-5e62397c7ba8",
   "metadata": {},
   "source": [
    "- Datataset Name: Marketing A/B Testing\n",
    "- Data Source: The dataset was found on kaggle. Link - https://www.kaggle.com/datasets/faviovaz/marketing-ab-testing/data\n",
    "- Data Collection: The data is collect through random experimentation where the majority of the random sample were exposed to the ad and the rest to the Public Service Announcement.\n",
    "- Number of rows: 588101\n",
    "- Number of Variables: Excluding the Index, there are 6 variables\n",
    "- Variable Names and Types:\n",
    "    - Index: Row index\n",
    "    - user id: User ID (unique)\n",
    "    - test group: If \"ad\" the person saw the advertisement, if \"psa\" they only saw the public service announcement\n",
    "    - converted: If a person bought the product then True, else is False\n",
    "    - total ads: Amount of ads seen by person\n",
    "    - most ads day: Day that the person saw the biggest amount of ads\n",
    "    - most ads hour: Hour of day that the person saw the biggest amount of ads"
   ]
  },
  {
   "cell_type": "markdown",
   "id": "da2dbfec-1a77-425e-9c97-d6af5af9253e",
   "metadata": {},
   "source": [
    "The marketing dataset is a dataset collected in the context of A/B testing where marketing companies want to run an ad campaign inplace of a Public Service Announcement. They want to test whether the campaign is successful. To test that, random experimentation is done and data of 588101 people are collected where majority of the people are exposed to the ad and the rest are exposed to a Public Service Announcement that is placed in the same place as the ad. A converted variable is recorded which indicates whether the person bought the product the ad was advertising or not. Three other additional variables such as the total ads seen by a person, the day the the person saw the most amount of ads and the hour of the day the person saw the most amount of ads were also recorded."
   ]
  },
  {
   "cell_type": "markdown",
   "id": "5af284d7-b4b3-4263-af95-43f6754f377a",
   "metadata": {},
   "source": [
    "## Research Question"
   ]
  },
  {
   "cell_type": "markdown",
   "id": "5f780d69-be23-467b-b7d2-19d342612e0a",
   "metadata": {},
   "source": [
    "### *Do users in the \"ad\" group have a higher conversion rate compared to users in the \"psa\" group?*"
   ]
  },
  {
   "cell_type": "markdown",
   "id": "1396b2ee-4aa8-4a5b-9070-b3156e0634b9",
   "metadata": {},
   "source": [
    "In my research question, the response variable is the \"converted\" and the explanatory variable is \"test group\".\n",
    "\n",
    "My question focuses on inference because through the question we can understand whether there is a causal relationship between the type of exposure (ad or PSA) and the conversion rate.\n",
    "\n",
    "The dataset has information about both the type of exposure and the converstion rate. We can perform a statistical analysis using A/B testing which will allow us to compare if there is a statistically signifificant differene between the \"ad\" group and \"psa\" group in regards of their conversion rates.\n",
    "\n",
    "If we find that there is a statistically significant result then it would suggest that the ad campaign was successful and the company should focus on that."
   ]
  }
 ],
 "metadata": {
  "kernelspec": {
   "display_name": "R",
   "language": "R",
   "name": "ir"
  },
  "language_info": {
   "codemirror_mode": "r",
   "file_extension": ".r",
   "mimetype": "text/x-r-source",
   "name": "R",
   "pygments_lexer": "r",
   "version": "4.2.3"
  }
 },
 "nbformat": 4,
 "nbformat_minor": 5
}
